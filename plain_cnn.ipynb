{
 "cells": [
  {
   "cell_type": "code",
   "execution_count": 1,
   "metadata": {},
   "outputs": [
    {
     "name": "stdout",
     "output_type": "stream",
     "text": [
      "WARNING:tensorflow:From C:\\Users\\dong5\\Anaconda3\\lib\\site-packages\\tensorflow\\contrib\\learn\\python\\learn\\datasets\\base.py:198: retry (from tensorflow.contrib.learn.python.learn.datasets.base) is deprecated and will be removed in a future version.\n",
      "Instructions for updating:\n",
      "Use the retry module or similar alternatives.\n"
     ]
    }
   ],
   "source": [
    "import numpy as np\n",
    "import tensorflow as tf\n",
    "from utils import *\n",
    "from tensorflow.contrib import learn\n",
    "from tensorflow.contrib import layers\n",
    "from tensorflow.contrib.learn import *\n",
    "from tensorflow.contrib.learn.python.learn.estimators import model_fn as model_fn_lib\n",
    "\n",
    "tf.logging.set_verbosity(tf.logging.INFO)"
   ]
  },
  {
   "cell_type": "markdown",
   "metadata": {},
   "source": [
    "## Input function for training\n",
    "\n",
    "- Get image data from the given directory \n",
    "- Put the data into TensorFlow Queue\n",
    "- Return (features, label)\n",
    "    - features: a Tensor with shape (batch_size, height, width, channels) \n",
    "    - label: a Tensor with shape (batch_size)"
   ]
  },
  {
   "cell_type": "code",
   "execution_count": 2,
   "metadata": {},
   "outputs": [],
   "source": [
    "train_input_fn = read_img(data_dir='data/train', batch_size=32, shuffle=True)"
   ]
  },
  {
   "cell_type": "code",
   "execution_count": 3,
   "metadata": {},
   "outputs": [
    {
     "data": {
      "text/plain": [
       "(<tf.Tensor 'features:0' shape=(?, 256, 256, 3) dtype=uint8>,\n",
       " <tf.Tensor 'label:0' shape=(?,) dtype=int32>)"
      ]
     },
     "execution_count": 3,
     "metadata": {},
     "output_type": "execute_result"
    }
   ],
   "source": [
    "train_input_fn()"
   ]
  },
  {
   "cell_type": "markdown",
   "metadata": {},
   "source": [
    "### Define CNN model function"
   ]
  },
  {
   "cell_type": "code",
   "execution_count": 4,
   "metadata": {},
   "outputs": [],
   "source": [
    "def cnn_model_fn(features, labels, mode, params):\n",
    "    \"\"\"\n",
    "    Model function for CNN\n",
    "    :param features: images features with shape (batch_size, height, width, channels)\n",
    "    :param labels: images category with shape (batch_size)\n",
    "    :param mode: Specifies if this training, evaluation or\n",
    "                 prediction. See `model_fn_lib.ModeKey`\n",
    "    :param params: dict of hyperparameters\n",
    "    :return: predictions, loss, train_op, Optional(eval_op). See `model_fn_lib.ModelFnOps`\n",
    "    \"\"\"\n",
    "    \n",
    "    # Convolutional Layer #1\n",
    "    conv1 = tf.layers.conv2d(\n",
    "        inputs=features,\n",
    "        filters=32,\n",
    "        kernel_size=[3, 3],\n",
    "        padding=\"same\",\n",
    "        activation=tf.nn.relu)\n",
    "\n",
    "    # Pooling Layer #1\n",
    "    pool1 = tf.layers.max_pooling2d(inputs=conv1, pool_size=[2, 2], strides=2)\n",
    "    \n",
    "    # Convolutional Layer #2 and Pooling Layer #2\n",
    "    conv2 = tf.layers.conv2d(\n",
    "        inputs=pool1,\n",
    "        filters=64,\n",
    "        kernel_size=[3, 3],\n",
    "        padding=\"same\",\n",
    "        activation=tf.nn.relu)\n",
    "    pool2 = tf.layers.max_pooling2d(inputs=conv2, pool_size=[2, 2], strides=2)\n",
    "\n",
    "    # Convolutional Layer #3 and Pooling Layer #3\n",
    "    conv3 = tf.layers.conv2d(\n",
    "        inputs=pool2,\n",
    "        filters=64,\n",
    "        kernel_size=[3, 3],\n",
    "        padding=\"same\",\n",
    "        activation=tf.nn.relu)\n",
    "    pool3 = tf.layers.max_pooling2d(inputs=conv3, pool_size=[2, 2], strides=2)\n",
    "    \n",
    "    # Dense Layer\n",
    "    pool_flat = tf.reshape(pool3, [-1, 32 * 32 * 64])\n",
    "    dense = tf.layers.dense(inputs=pool_flat, units=512, activation=tf.nn.relu)\n",
    "    dropout = tf.layers.dropout(inputs=dense, rate=params['drop_out_rate']\n",
    "                                , training=mode == learn.ModeKeys.TRAIN)\n",
    "    \n",
    "    # Logits Layer, a final layer before applying softmax\n",
    "    logits = tf.layers.dense(inputs=dropout, units=17)\n",
    "    \n",
    "    loss = None\n",
    "    train_op = None\n",
    "    \n",
    "    # Calculate Loss (for both TRAIN and EVAL modes)\n",
    "    if mode != learn.ModeKeys.INFER:\n",
    "        onehot_labels = tf.one_hot(indices=tf.cast(labels, tf.int32), depth=17, name=\"onehot\")\n",
    "        #cross entropy loss\n",
    "        loss = tf.losses.softmax_cross_entropy(\n",
    "            onehot_labels=onehot_labels, logits=logits)\n",
    "        \n",
    "    # Configure the Training Op (for TRAIN mode)\n",
    "    if mode == learn.ModeKeys.TRAIN:\n",
    "        train_op = tf.contrib.layers.optimize_loss(\n",
    "            loss=loss,\n",
    "            global_step=tf.contrib.framework.get_global_step(),\n",
    "            optimizer=tf.train.AdamOptimizer,\n",
    "            learning_rate=params['learning_rate'],\n",
    "            summaries=[\n",
    "                \"learning_rate\",\n",
    "                \"loss\",\n",
    "                \"gradients\",\n",
    "                \"gradient_norm\",\n",
    "            ])\n",
    "    \n",
    "    # Generate Predictions\n",
    "    predictions = {\n",
    "        \"classes\": tf.argmax(\n",
    "            input=logits, axis=1),\n",
    "        \"probabilities\": tf.nn.softmax(\n",
    "            logits, name=\"softmax_tensor\")\n",
    "    }\n",
    "    \n",
    "    # Return a ModelFnOps object\n",
    "    return model_fn_lib.ModelFnOps(mode=mode, \n",
    "                                   predictions=predictions, \n",
    "                                   loss=loss, \n",
    "                                   train_op=train_op,\n",
    "                                   eval_metric_ops={'dense': dense})"
   ]
  },
  {
   "cell_type": "markdown",
   "metadata": {},
   "source": [
    "### Define Data Preprocessing"
   ]
  },
  {
   "cell_type": "code",
   "execution_count": 5,
   "metadata": {},
   "outputs": [],
   "source": [
    "def feature_engineering_fn(features, labels):\n",
    "    \"\"\"\n",
    "    feature_engineering_fn: Feature engineering function. Takes features and\n",
    "                              labels which are the output of `input_fn` and\n",
    "                              returns features and labels which will be fed\n",
    "                              into `model_fn`\n",
    "    \"\"\"\n",
    "    \n",
    "    features = tf.to_float(features)\n",
    "    \n",
    "    # Preprocessing or Data Augmentation\n",
    "    # tf.image implements most of the standard image augmentation\n",
    "\n",
    "    # Example\n",
    "    # Subtract off the mean and divide by the variance of the pixels.\n",
    "    features = tf.map_fn(tf.image.per_image_standardization, features)\n",
    "    \n",
    "    return features, labels"
   ]
  },
  {
   "cell_type": "markdown",
   "metadata": {},
   "source": [
    "### Instantiate an Estimator"
   ]
  },
  {
   "cell_type": "code",
   "execution_count": 6,
   "metadata": {},
   "outputs": [
    {
     "name": "stdout",
     "output_type": "stream",
     "text": [
      "WARNING:tensorflow:From <ipython-input-6-cf9b32d12075>:1: RunConfig.__init__ (from tensorflow.contrib.learn.python.learn.estimators.run_config) is deprecated and will be removed in a future version.\n",
      "Instructions for updating:\n",
      "When switching to tf.estimator.Estimator, use tf.estimator.RunConfig instead.\n",
      "WARNING:tensorflow:From C:\\Users\\dong5\\Anaconda3\\lib\\site-packages\\tensorflow\\contrib\\learn\\python\\learn\\estimators\\estimator.py:1165: BaseEstimator.__init__ (from tensorflow.contrib.learn.python.learn.estimators.estimator) is deprecated and will be removed in a future version.\n",
      "Instructions for updating:\n",
      "Please replace uses of any Estimator from tf.contrib.learn with an Estimator from tf.estimator.*\n",
      "INFO:tensorflow:Using config: {'_task_type': None, '_task_id': 0, '_cluster_spec': <tensorflow.python.training.server_lib.ClusterSpec object at 0x000001885DA43E80>, '_master': '', '_num_ps_replicas': 0, '_num_worker_replicas': 0, '_environment': 'local', '_is_chief': True, '_evaluation_master': '', '_tf_config': gpu_options {\n",
      "  per_process_gpu_memory_fraction: 1.0\n",
      "}\n",
      ", '_tf_random_seed': None, '_save_summary_steps': 10, '_save_checkpoints_secs': 30, '_log_step_count_steps': 100, '_session_config': None, '_save_checkpoints_steps': None, '_keep_checkpoint_max': 2, '_keep_checkpoint_every_n_hours': 10000, '_model_dir': '_model/plain_cnn'}\n"
     ]
    }
   ],
   "source": [
    "run_config = RunConfig(save_summary_steps=10, keep_checkpoint_max=2, save_checkpoints_secs=30)\n",
    "#drop_out_rate = 0.2, learning_rate = 0.0001\n",
    "params = {'drop_out_rate': 0.2, 'learning_rate': 0.0001}\n",
    "#use \"model/plain_cnn\" as model_dir\n",
    "cnn_classifier = learn.Estimator(model_fn=cnn_model_fn, model_dir=\"_model/plain_cnn\",\n",
    "        config=run_config,\n",
    "        feature_engineering_fn=feature_engineering_fn, params=params)"
   ]
  },
  {
   "cell_type": "code",
   "execution_count": 7,
   "metadata": {},
   "outputs": [
    {
     "name": "stdout",
     "output_type": "stream",
     "text": [
      "WARNING:tensorflow:From <ipython-input-7-153bbe26a921>:5: MetricSpec.__init__ (from tensorflow.contrib.learn.python.learn.metric_spec) is deprecated and will be removed in a future version.\n",
      "Instructions for updating:\n",
      "Use tf.estimator.EstimatorSpec.eval_metric_ops.\n"
     ]
    }
   ],
   "source": [
    "# Configure the accuracy metric for evaluation\n",
    "metrics = {\n",
    "    \"accuracy\":\n",
    "        learn.MetricSpec(\n",
    "            metric_fn=tf.metrics.accuracy, prediction_key=\"classes\")\n",
    "}"
   ]
  },
  {
   "cell_type": "markdown",
   "metadata": {},
   "source": [
    "### Define input function for validation monitor and Instantiate a Validation Monitor"
   ]
  },
  {
   "cell_type": "code",
   "execution_count": 8,
   "metadata": {},
   "outputs": [
    {
     "name": "stdout",
     "output_type": "stream",
     "text": [
      "WARNING:tensorflow:From C:\\Users\\dong5\\Anaconda3\\lib\\site-packages\\tensorflow\\contrib\\learn\\python\\learn\\monitors.py:279: BaseMonitor.__init__ (from tensorflow.contrib.learn.python.learn.monitors) is deprecated and will be removed after 2016-12-05.\n",
      "Instructions for updating:\n",
      "Monitors are deprecated. Please use tf.train.SessionRunHook.\n"
     ]
    }
   ],
   "source": [
    "#validation data is in 'data/validate' folder, batch size = 128\n",
    "validate_input_fn = read_img(data_dir='data/validate', batch_size=128, shuffle=True)\n",
    "validation_monitor = monitors.ValidationMonitor(input_fn=validate_input_fn,\n",
    "                                                eval_steps=10,\n",
    "                                                every_n_steps=50,\n",
    "                                                metrics=metrics,\n",
    "                                                name='validation')"
   ]
  },
  {
   "cell_type": "markdown",
   "metadata": {},
   "source": [
    "### Start training the model"
   ]
  },
  {
   "cell_type": "code",
   "execution_count": 9,
   "metadata": {
    "scrolled": false
   },
   "outputs": [
    {
     "name": "stdout",
     "output_type": "stream",
     "text": [
      "WARNING:tensorflow:From <ipython-input-4-0413adfaae90>:64: get_global_step (from tensorflow.contrib.framework.python.ops.variables) is deprecated and will be removed in a future version.\n",
      "Instructions for updating:\n",
      "Please switch to tf.train.get_global_step\n",
      "WARNING:tensorflow:From <ipython-input-4-0413adfaae90>:87: ModelFnOps.__new__ (from tensorflow.contrib.learn.python.learn.estimators.model_fn) is deprecated and will be removed in a future version.\n",
      "Instructions for updating:\n",
      "When switching to tf.estimator.Estimator, use tf.estimator.EstimatorSpec. You can use the `estimator_spec` method to create an equivalent one.\n",
      "INFO:tensorflow:Create CheckpointSaverHook.\n",
      "INFO:tensorflow:Graph was finalized.\n",
      "INFO:tensorflow:Running local_init_op.\n",
      "INFO:tensorflow:Done running local_init_op.\n",
      "INFO:tensorflow:Saving checkpoints for 1 into _model/plain_cnn\\model.ckpt.\n",
      "INFO:tensorflow:loss = 2.87399, step = 1\n",
      "INFO:tensorflow:Saving checkpoints for 6 into _model/plain_cnn\\model.ckpt.\n",
      "INFO:tensorflow:Saving checkpoints for 11 into _model/plain_cnn\\model.ckpt.\n",
      "INFO:tensorflow:Saving checkpoints for 16 into _model/plain_cnn\\model.ckpt.\n",
      "INFO:tensorflow:Saving checkpoints for 21 into _model/plain_cnn\\model.ckpt.\n",
      "INFO:tensorflow:Saving checkpoints for 26 into _model/plain_cnn\\model.ckpt.\n",
      "INFO:tensorflow:Saving checkpoints for 31 into _model/plain_cnn\\model.ckpt.\n",
      "INFO:tensorflow:Saving checkpoints for 36 into _model/plain_cnn\\model.ckpt.\n",
      "INFO:tensorflow:Saving checkpoints for 41 into _model/plain_cnn\\model.ckpt.\n",
      "INFO:tensorflow:Saving checkpoints for 46 into _model/plain_cnn\\model.ckpt.\n",
      "INFO:tensorflow:Starting evaluation at 2018-08-16-17:25:36\n",
      "INFO:tensorflow:Graph was finalized.\n",
      "INFO:tensorflow:Restoring parameters from _model/plain_cnn\\model.ckpt-46\n",
      "INFO:tensorflow:Running local_init_op.\n",
      "INFO:tensorflow:Done running local_init_op.\n",
      "INFO:tensorflow:Evaluation [1/10]\n",
      "INFO:tensorflow:Evaluation [2/10]\n",
      "INFO:tensorflow:Evaluation [3/10]\n",
      "INFO:tensorflow:Evaluation [4/10]\n",
      "INFO:tensorflow:Evaluation [5/10]\n",
      "INFO:tensorflow:Evaluation [6/10]\n",
      "INFO:tensorflow:Evaluation [7/10]\n",
      "INFO:tensorflow:Evaluation [8/10]\n",
      "INFO:tensorflow:Evaluation [9/10]\n",
      "INFO:tensorflow:Evaluation [10/10]\n",
      "INFO:tensorflow:Finished evaluation at 2018-08-16-17:27:04\n",
      "INFO:tensorflow:Saving dict for global step 46: accuracy = 0.29921874, Type of dense = <class 'numpy.ndarray'>, global_step = 46, loss = 2.144547\n",
      "INFO:tensorflow:Summary for np.ndarray is not visible in Tensorboard by default. Consider using a Tensorboard plugin for visualization (see https://github.com/tensorflow/tensorboard-plugin-example/blob/master/README.md for more information).\n",
      "INFO:tensorflow:Validation (step 50): dense = [[0.         2.367347   0.3056545  ... 0.         0.         0.        ]\n",
      " [0.         1.0134836  0.8818222  ... 0.         0.         0.        ]\n",
      " [0.         1.344739   0.4042278  ... 0.         0.         0.        ]\n",
      " ...\n",
      " [0.         1.662194   0.24303457 ... 0.         0.         0.        ]\n",
      " [0.         1.4601513  0.63618326 ... 0.         0.         0.        ]\n",
      " [0.         1.6259282  0.7652401  ... 0.         0.         0.        ]], accuracy = 0.29921874, loss = 2.144547, global_step = 46\n",
      "INFO:tensorflow:Saving checkpoints for 51 into _model/plain_cnn\\model.ckpt.\n",
      "INFO:tensorflow:Saving checkpoints for 56 into _model/plain_cnn\\model.ckpt.\n",
      "INFO:tensorflow:Saving checkpoints for 61 into _model/plain_cnn\\model.ckpt.\n",
      "INFO:tensorflow:Saving checkpoints for 66 into _model/plain_cnn\\model.ckpt.\n",
      "INFO:tensorflow:Saving checkpoints for 71 into _model/plain_cnn\\model.ckpt.\n",
      "INFO:tensorflow:Saving checkpoints for 76 into _model/plain_cnn\\model.ckpt.\n",
      "INFO:tensorflow:Saving checkpoints for 81 into _model/plain_cnn\\model.ckpt.\n",
      "INFO:tensorflow:Saving checkpoints for 86 into _model/plain_cnn\\model.ckpt.\n",
      "INFO:tensorflow:Saving checkpoints for 91 into _model/plain_cnn\\model.ckpt.\n",
      "INFO:tensorflow:Saving checkpoints for 96 into _model/plain_cnn\\model.ckpt.\n",
      "INFO:tensorflow:Starting evaluation at 2018-08-16-17:32:12\n",
      "INFO:tensorflow:Graph was finalized.\n",
      "INFO:tensorflow:Restoring parameters from _model/plain_cnn\\model.ckpt-96\n",
      "INFO:tensorflow:Running local_init_op.\n",
      "INFO:tensorflow:Done running local_init_op.\n",
      "INFO:tensorflow:Evaluation [1/10]\n",
      "INFO:tensorflow:Evaluation [2/10]\n",
      "INFO:tensorflow:Evaluation [3/10]\n",
      "INFO:tensorflow:Evaluation [4/10]\n",
      "INFO:tensorflow:Evaluation [5/10]\n",
      "INFO:tensorflow:Evaluation [6/10]\n",
      "INFO:tensorflow:Evaluation [7/10]\n",
      "INFO:tensorflow:Evaluation [8/10]\n",
      "INFO:tensorflow:Evaluation [9/10]\n",
      "INFO:tensorflow:Evaluation [10/10]\n",
      "INFO:tensorflow:Finished evaluation at 2018-08-16-17:33:40\n",
      "INFO:tensorflow:Saving dict for global step 96: accuracy = 0.31640625, Type of dense = <class 'numpy.ndarray'>, global_step = 96, loss = 2.2295613\n",
      "INFO:tensorflow:Summary for np.ndarray is not visible in Tensorboard by default. Consider using a Tensorboard plugin for visualization (see https://github.com/tensorflow/tensorboard-plugin-example/blob/master/README.md for more information).\n",
      "INFO:tensorflow:Validation (step 100): dense = [[0.         1.9486991  1.221217   ... 0.         0.         0.        ]\n",
      " [0.         1.0807064  0.0177513  ... 0.         0.         0.        ]\n",
      " [0.         2.2010481  0.6262224  ... 0.         0.         0.        ]\n",
      " ...\n",
      " [0.         2.4018996  0.5536659  ... 0.         0.         0.        ]\n",
      " [0.         2.5920851  0.13153082 ... 0.         0.         0.        ]\n",
      " [0.         2.4145734  0.         ... 0.         0.         0.        ]], accuracy = 0.31640625, loss = 2.2295613, global_step = 96\n",
      "INFO:tensorflow:Saving checkpoints for 101 into _model/plain_cnn\\model.ckpt.\n",
      "INFO:tensorflow:global_step/sec: 0.12588\n",
      "INFO:tensorflow:loss = 0.36685964, step = 101 (794.411 sec)\n",
      "INFO:tensorflow:Saving checkpoints for 106 into _model/plain_cnn\\model.ckpt.\n",
      "INFO:tensorflow:Saving checkpoints for 111 into _model/plain_cnn\\model.ckpt.\n",
      "INFO:tensorflow:Saving checkpoints for 116 into _model/plain_cnn\\model.ckpt.\n",
      "INFO:tensorflow:Saving checkpoints for 121 into _model/plain_cnn\\model.ckpt.\n",
      "INFO:tensorflow:Saving checkpoints for 126 into _model/plain_cnn\\model.ckpt.\n",
      "INFO:tensorflow:Saving checkpoints for 131 into _model/plain_cnn\\model.ckpt.\n",
      "INFO:tensorflow:Saving checkpoints for 136 into _model/plain_cnn\\model.ckpt.\n",
      "INFO:tensorflow:Saving checkpoints for 141 into _model/plain_cnn\\model.ckpt.\n",
      "INFO:tensorflow:Saving checkpoints for 146 into _model/plain_cnn\\model.ckpt.\n",
      "INFO:tensorflow:Starting evaluation at 2018-08-16-17:38:47\n",
      "INFO:tensorflow:Graph was finalized.\n",
      "INFO:tensorflow:Restoring parameters from _model/plain_cnn\\model.ckpt-146\n",
      "INFO:tensorflow:Running local_init_op.\n",
      "INFO:tensorflow:Done running local_init_op.\n",
      "INFO:tensorflow:Evaluation [1/10]\n",
      "INFO:tensorflow:Evaluation [2/10]\n",
      "INFO:tensorflow:Evaluation [3/10]\n",
      "INFO:tensorflow:Evaluation [4/10]\n",
      "INFO:tensorflow:Evaluation [5/10]\n",
      "INFO:tensorflow:Evaluation [6/10]\n",
      "INFO:tensorflow:Evaluation [7/10]\n",
      "INFO:tensorflow:Evaluation [8/10]\n",
      "INFO:tensorflow:Evaluation [9/10]\n",
      "INFO:tensorflow:Evaluation [10/10]\n",
      "INFO:tensorflow:Finished evaluation at 2018-08-16-17:40:14\n",
      "INFO:tensorflow:Saving dict for global step 146: accuracy = 0.43671876, Type of dense = <class 'numpy.ndarray'>, global_step = 146, loss = 1.8955967\n",
      "INFO:tensorflow:Summary for np.ndarray is not visible in Tensorboard by default. Consider using a Tensorboard plugin for visualization (see https://github.com/tensorflow/tensorboard-plugin-example/blob/master/README.md for more information).\n",
      "INFO:tensorflow:Validation (step 150): dense = [[0.         3.0045078  0.3485113  ... 0.         0.         0.        ]\n",
      " [0.         3.1164515  0.         ... 0.         0.         0.        ]\n",
      " [0.         0.75255954 0.5250719  ... 0.         0.         0.        ]\n",
      " ...\n",
      " [0.         0.26466563 0.6664578  ... 0.         0.         0.        ]\n",
      " [0.         3.635005   0.         ... 0.         0.         0.        ]\n",
      " [0.         3.3013327  0.         ... 0.         0.         0.        ]], accuracy = 0.43671876, loss = 1.8955967, global_step = 146\n",
      "INFO:tensorflow:Saving checkpoints for 151 into _model/plain_cnn\\model.ckpt.\n",
      "INFO:tensorflow:Saving checkpoints for 156 into _model/plain_cnn\\model.ckpt.\n",
      "INFO:tensorflow:Saving checkpoints for 161 into _model/plain_cnn\\model.ckpt.\n"
     ]
    },
    {
     "name": "stdout",
     "output_type": "stream",
     "text": [
      "INFO:tensorflow:Saving checkpoints for 166 into _model/plain_cnn\\model.ckpt.\n",
      "INFO:tensorflow:Saving checkpoints for 171 into _model/plain_cnn\\model.ckpt.\n",
      "INFO:tensorflow:Saving checkpoints for 176 into _model/plain_cnn\\model.ckpt.\n",
      "INFO:tensorflow:Saving checkpoints for 181 into _model/plain_cnn\\model.ckpt.\n",
      "INFO:tensorflow:Saving checkpoints for 186 into _model/plain_cnn\\model.ckpt.\n",
      "INFO:tensorflow:Saving checkpoints for 191 into _model/plain_cnn\\model.ckpt.\n",
      "INFO:tensorflow:Saving checkpoints for 196 into _model/plain_cnn\\model.ckpt.\n",
      "INFO:tensorflow:Starting evaluation at 2018-08-16-17:45:23\n",
      "INFO:tensorflow:Graph was finalized.\n",
      "INFO:tensorflow:Restoring parameters from _model/plain_cnn\\model.ckpt-196\n",
      "INFO:tensorflow:Running local_init_op.\n",
      "INFO:tensorflow:Done running local_init_op.\n",
      "INFO:tensorflow:Evaluation [1/10]\n",
      "INFO:tensorflow:Evaluation [2/10]\n",
      "INFO:tensorflow:Evaluation [3/10]\n",
      "INFO:tensorflow:Evaluation [4/10]\n",
      "INFO:tensorflow:Evaluation [5/10]\n",
      "INFO:tensorflow:Evaluation [6/10]\n",
      "INFO:tensorflow:Evaluation [7/10]\n",
      "INFO:tensorflow:Evaluation [8/10]\n",
      "INFO:tensorflow:Evaluation [9/10]\n",
      "INFO:tensorflow:Evaluation [10/10]\n",
      "INFO:tensorflow:Finished evaluation at 2018-08-16-17:46:52\n",
      "INFO:tensorflow:Saving dict for global step 196: accuracy = 0.37890625, Type of dense = <class 'numpy.ndarray'>, global_step = 196, loss = 2.360316\n",
      "INFO:tensorflow:Summary for np.ndarray is not visible in Tensorboard by default. Consider using a Tensorboard plugin for visualization (see https://github.com/tensorflow/tensorboard-plugin-example/blob/master/README.md for more information).\n",
      "INFO:tensorflow:Validation (step 200): dense = [[0.         3.8932064  0.5787448  ... 0.         0.         0.        ]\n",
      " [0.         3.3047197  1.0946927  ... 0.         0.         0.        ]\n",
      " [0.         0.         2.1250875  ... 0.         0.         0.        ]\n",
      " ...\n",
      " [0.         0.23909533 1.8264816  ... 0.         0.         0.        ]\n",
      " [0.         2.430122   0.80939883 ... 0.         0.         0.        ]\n",
      " [0.         1.0708284  1.6217414  ... 0.         0.         0.        ]], accuracy = 0.37890625, loss = 2.360316, global_step = 196\n",
      "INFO:tensorflow:Saving checkpoints for 201 into _model/plain_cnn\\model.ckpt.\n",
      "INFO:tensorflow:global_step/sec: 0.126209\n",
      "INFO:tensorflow:loss = 0.067584775, step = 201 (792.333 sec)\n",
      "INFO:tensorflow:Saving checkpoints for 206 into _model/plain_cnn\\model.ckpt.\n",
      "INFO:tensorflow:Saving checkpoints for 211 into _model/plain_cnn\\model.ckpt.\n",
      "INFO:tensorflow:Saving checkpoints for 216 into _model/plain_cnn\\model.ckpt.\n",
      "INFO:tensorflow:Saving checkpoints for 221 into _model/plain_cnn\\model.ckpt.\n",
      "INFO:tensorflow:Saving checkpoints for 226 into _model/plain_cnn\\model.ckpt.\n",
      "INFO:tensorflow:Saving checkpoints for 231 into _model/plain_cnn\\model.ckpt.\n",
      "INFO:tensorflow:Saving checkpoints for 236 into _model/plain_cnn\\model.ckpt.\n",
      "INFO:tensorflow:Saving checkpoints for 241 into _model/plain_cnn\\model.ckpt.\n",
      "INFO:tensorflow:Saving checkpoints for 246 into _model/plain_cnn\\model.ckpt.\n",
      "INFO:tensorflow:Starting evaluation at 2018-08-16-17:52:10\n",
      "INFO:tensorflow:Graph was finalized.\n",
      "INFO:tensorflow:Restoring parameters from _model/plain_cnn\\model.ckpt-246\n",
      "INFO:tensorflow:Running local_init_op.\n",
      "INFO:tensorflow:Done running local_init_op.\n",
      "INFO:tensorflow:Evaluation [1/10]\n",
      "INFO:tensorflow:Evaluation [2/10]\n",
      "INFO:tensorflow:Evaluation [3/10]\n",
      "INFO:tensorflow:Evaluation [4/10]\n",
      "INFO:tensorflow:Evaluation [5/10]\n",
      "INFO:tensorflow:Evaluation [6/10]\n",
      "INFO:tensorflow:Evaluation [7/10]\n",
      "INFO:tensorflow:Evaluation [8/10]\n",
      "INFO:tensorflow:Evaluation [9/10]\n",
      "INFO:tensorflow:Evaluation [10/10]\n",
      "INFO:tensorflow:Finished evaluation at 2018-08-16-17:53:54\n",
      "INFO:tensorflow:Saving dict for global step 246: accuracy = 0.3703125, Type of dense = <class 'numpy.ndarray'>, global_step = 246, loss = 2.5927882\n",
      "INFO:tensorflow:Summary for np.ndarray is not visible in Tensorboard by default. Consider using a Tensorboard plugin for visualization (see https://github.com/tensorflow/tensorboard-plugin-example/blob/master/README.md for more information).\n",
      "INFO:tensorflow:Validation (step 250): dense = [[0.         0.9751471  4.1157775  ... 0.         0.         0.        ]\n",
      " [0.         0.7464395  0.98126936 ... 0.         0.         0.        ]\n",
      " [0.         0.48889259 2.867522   ... 0.         0.         0.        ]\n",
      " ...\n",
      " [0.         2.3619337  1.1290401  ... 0.         0.         0.        ]\n",
      " [0.         0.         2.586455   ... 0.         0.         0.        ]\n",
      " [0.         2.1077383  1.1022341  ... 0.         0.         0.        ]], accuracy = 0.3703125, loss = 2.5927882, global_step = 246\n",
      "INFO:tensorflow:Saving checkpoints for 251 into _model/plain_cnn\\model.ckpt.\n",
      "INFO:tensorflow:Saving checkpoints for 256 into _model/plain_cnn\\model.ckpt.\n",
      "INFO:tensorflow:Saving checkpoints for 261 into _model/plain_cnn\\model.ckpt.\n",
      "INFO:tensorflow:Saving checkpoints for 266 into _model/plain_cnn\\model.ckpt.\n",
      "INFO:tensorflow:Saving checkpoints for 271 into _model/plain_cnn\\model.ckpt.\n",
      "INFO:tensorflow:Saving checkpoints for 276 into _model/plain_cnn\\model.ckpt.\n",
      "INFO:tensorflow:Saving checkpoints for 280 into _model/plain_cnn\\model.ckpt.\n",
      "INFO:tensorflow:Saving checkpoints for 284 into _model/plain_cnn\\model.ckpt.\n",
      "INFO:tensorflow:Saving checkpoints for 288 into _model/plain_cnn\\model.ckpt.\n",
      "INFO:tensorflow:Saving checkpoints for 292 into _model/plain_cnn\\model.ckpt.\n",
      "INFO:tensorflow:Saving checkpoints for 296 into _model/plain_cnn\\model.ckpt.\n",
      "INFO:tensorflow:Saving checkpoints for 300 into _model/plain_cnn\\model.ckpt.\n",
      "INFO:tensorflow:Starting evaluation at 2018-08-16-18:00:10\n",
      "INFO:tensorflow:Graph was finalized.\n",
      "INFO:tensorflow:Restoring parameters from _model/plain_cnn\\model.ckpt-300\n",
      "INFO:tensorflow:Running local_init_op.\n",
      "INFO:tensorflow:Done running local_init_op.\n",
      "INFO:tensorflow:Evaluation [1/10]\n",
      "INFO:tensorflow:Evaluation [2/10]\n",
      "INFO:tensorflow:Evaluation [3/10]\n",
      "INFO:tensorflow:Evaluation [4/10]\n",
      "INFO:tensorflow:Evaluation [5/10]\n",
      "INFO:tensorflow:Evaluation [6/10]\n",
      "INFO:tensorflow:Evaluation [7/10]\n",
      "INFO:tensorflow:Evaluation [8/10]\n",
      "INFO:tensorflow:Evaluation [9/10]\n",
      "INFO:tensorflow:Evaluation [10/10]\n",
      "INFO:tensorflow:Finished evaluation at 2018-08-16-18:02:12\n",
      "INFO:tensorflow:Saving dict for global step 300: accuracy = 0.39609376, Type of dense = <class 'numpy.ndarray'>, global_step = 300, loss = 2.6595938\n",
      "INFO:tensorflow:Summary for np.ndarray is not visible in Tensorboard by default. Consider using a Tensorboard plugin for visualization (see https://github.com/tensorflow/tensorboard-plugin-example/blob/master/README.md for more information).\n",
      "INFO:tensorflow:Validation (step 300): dense = [[0.         0.         1.1492909  ... 0.         0.         0.        ]\n",
      " [0.         3.5932717  0.6337494  ... 0.         0.         0.        ]\n",
      " [0.         0.         0.         ... 0.         0.         0.        ]\n",
      " ...\n",
      " [0.         1.3986355  0.35142216 ... 0.         0.         0.        ]\n",
      " [0.         0.37521285 0.83369666 ... 0.         0.         0.        ]\n",
      " [0.         2.7488124  1.095532   ... 0.         0.         0.        ]], accuracy = 0.39609376, loss = 2.6595938, global_step = 300\n",
      "INFO:tensorflow:Loss for final step: 0.06055033.\n"
     ]
    },
    {
     "data": {
      "text/plain": [
       "Estimator(params={'drop_out_rate': 0.2, 'learning_rate': 0.0001})"
      ]
     },
     "execution_count": 9,
     "metadata": {},
     "output_type": "execute_result"
    }
   ],
   "source": [
    "#use validation monitor defined above to evaluate model every 50 steps\n",
    "cnn_classifier.fit(input_fn=train_input_fn, steps=300, monitors=[validation_monitor])"
   ]
  },
  {
   "cell_type": "markdown",
   "metadata": {},
   "source": [
    "### Final evaluation on unseen test data set"
   ]
  },
  {
   "cell_type": "code",
   "execution_count": 10,
   "metadata": {
    "scrolled": false
   },
   "outputs": [
    {
     "name": "stdout",
     "output_type": "stream",
     "text": [
      "INFO:tensorflow:Starting evaluation at 2018-08-16-18:03:10\n",
      "INFO:tensorflow:Graph was finalized.\n",
      "INFO:tensorflow:Restoring parameters from _model/plain_cnn\\model.ckpt-300\n",
      "INFO:tensorflow:Running local_init_op.\n",
      "INFO:tensorflow:Done running local_init_op.\n",
      "INFO:tensorflow:Evaluation [1/1]\n",
      "INFO:tensorflow:Finished evaluation at 2018-08-16-18:03:51\n",
      "INFO:tensorflow:Saving dict for global step 300: accuracy = 0.43359375, Type of dense = <class 'numpy.ndarray'>, global_step = 300, loss = 2.427772\n",
      "INFO:tensorflow:Summary for np.ndarray is not visible in Tensorboard by default. Consider using a Tensorboard plugin for visualization (see https://github.com/tensorflow/tensorboard-plugin-example/blob/master/README.md for more information).\n"
     ]
    }
   ],
   "source": [
    "#test data is in 'data/test' folder, batch size = 512\n",
    "test_input_fn = read_img(data_dir='data/test', batch_size=256, shuffle=False)\n",
    "#steps = 1\n",
    "eval_results = cnn_classifier.evaluate(input_fn=test_input_fn, metrics=metrics, steps=1)"
   ]
  },
  {
   "cell_type": "code",
   "execution_count": 11,
   "metadata": {},
   "outputs": [],
   "source": [
    "np.save(os.getcwd() + '/embedding.npy', eval_results['dense'])"
   ]
  },
  {
   "cell_type": "code",
   "execution_count": null,
   "metadata": {},
   "outputs": [],
   "source": []
  }
 ],
 "metadata": {
  "kernelspec": {
   "display_name": "Python 3",
   "language": "python",
   "name": "python3"
  },
  "language_info": {
   "codemirror_mode": {
    "name": "ipython",
    "version": 3
   },
   "file_extension": ".py",
   "mimetype": "text/x-python",
   "name": "python",
   "nbconvert_exporter": "python",
   "pygments_lexer": "ipython3",
   "version": "3.6.5"
  }
 },
 "nbformat": 4,
 "nbformat_minor": 1
}
